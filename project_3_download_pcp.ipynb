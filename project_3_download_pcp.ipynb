{
  "nbformat": 4,
  "nbformat_minor": 0,
  "metadata": {
    "colab": {
      "name": "project_3_download_pcp",
      "provenance": [],
      "mount_file_id": "1dBJBEsLVh-oPwOXFJ_tnlP7IgWLMrLPI",
      "authorship_tag": "ABX9TyOTDKS/tXMqVf2KjgjD47q9",
      "include_colab_link": true
    },
    "kernelspec": {
      "name": "python3",
      "display_name": "Python 3"
    }
  },
  "cells": [
    {
      "cell_type": "markdown",
      "metadata": {
        "id": "view-in-github",
        "colab_type": "text"
      },
      "source": [
        "<a href=\"https://colab.research.google.com/github/bieri2/ATMS597-Project3-GroupE/blob/master/project_3_download_pcp.ipynb\" target=\"_parent\"><img src=\"https://colab.research.google.com/assets/colab-badge.svg\" alt=\"Open In Colab\"/></a>"
      ]
    },
    {
      "cell_type": "code",
      "metadata": {
        "id": "YTCkjHgM4aKa",
        "colab_type": "code",
        "outputId": "6dbf6fc2-953f-43b8-a640-a484c3130f06",
        "colab": {
          "base_uri": "https://localhost:8080/",
          "height": 88
        }
      },
      "source": [
        "! pip install netcdf4\n",
        "! pip install wget\n",
        "import xarray as xr\n",
        "import numpy as np\n",
        "import wget\n",
        "import requests\n",
        "from bs4 import BeautifulSoup\n",
        "import re"
      ],
      "execution_count": 0,
      "outputs": [
        {
          "output_type": "stream",
          "text": [
            "Requirement already satisfied: netcdf4 in /usr/local/lib/python3.6/dist-packages (1.5.3)\n",
            "Requirement already satisfied: numpy>=1.7 in /usr/local/lib/python3.6/dist-packages (from netcdf4) (1.17.5)\n",
            "Requirement already satisfied: cftime in /usr/local/lib/python3.6/dist-packages (from netcdf4) (1.1.0)\n",
            "Requirement already satisfied: wget in /usr/local/lib/python3.6/dist-packages (3.2)\n"
          ],
          "name": "stdout"
        }
      ]
    },
    {
      "cell_type": "code",
      "metadata": {
        "id": "txOUodnAW7jP",
        "colab_type": "code",
        "colab": {}
      },
      "source": [
        "years = [str(i) for i in range(1996,2020)]"
      ],
      "execution_count": 0,
      "outputs": []
    },
    {
      "cell_type": "code",
      "metadata": {
        "id": "ic_4X01ICOMJ",
        "colab_type": "code",
        "outputId": "82c50622-e3e5-40b3-f0a5-645a2aad1ad3",
        "colab": {
          "base_uri": "https://localhost:8080/",
          "height": 444
        }
      },
      "source": [
        "url = 'https://www.ncei.noaa.gov/data/global-precipitation-climatology-project-gpcp-daily/access/'\n",
        "data_all = []\n",
        "for y in years: \n",
        "    print(y)\n",
        "    html = requests.get(url + y +'/').text\n",
        "    soup = BeautifulSoup(html)\n",
        "    y_files = soup.findAll(string=re.compile('gpcp_v01r03'))\n",
        "    url_list = [url + y + '/' + f for f in y_files]\n",
        "    for f in url_list:\n",
        "        data_all.append(xr.open_dataset(wget.download(f)))"
      ],
      "execution_count": 0,
      "outputs": [
        {
          "output_type": "stream",
          "text": [
            "1996\n",
            "1997\n",
            "1998\n",
            "1999\n",
            "2000\n",
            "2001\n",
            "2002\n",
            "2003\n",
            "2004\n",
            "2005\n",
            "2006\n",
            "2007\n",
            "2008\n",
            "2009\n",
            "2010\n",
            "2011\n",
            "2012\n",
            "2013\n",
            "2014\n",
            "2015\n",
            "2016\n",
            "2017\n",
            "2018\n",
            "2019\n"
          ],
          "name": "stdout"
        }
      ]
    },
    {
      "cell_type": "code",
      "metadata": {
        "id": "Ov5Ssrfbkvix",
        "colab_type": "code",
        "colab": {}
      },
      "source": [
        "pcp_all = xr.concat(data_all, dim='time')"
      ],
      "execution_count": 0,
      "outputs": []
    },
    {
      "cell_type": "code",
      "metadata": {
        "id": "ovylZItAlD7U",
        "colab_type": "code",
        "outputId": "7d0bfa61-c3e1-4f5d-9e63-407f5b2fd5f4",
        "colab": {
          "base_uri": "https://localhost:8080/",
          "height": 72
        }
      },
      "source": [
        "pcp_all.to_netcdf('pcp_all.nc')"
      ],
      "execution_count": 0,
      "outputs": [
        {
          "output_type": "stream",
          "text": [
            "/usr/local/lib/python3.6/dist-packages/xarray/conventions.py:425: UserWarning: Variable 'time' has datetime type and a bounds variable but time.encoding does not have units specified. The units encodings for 'time' and 'time_bounds' will be determined independently and may not be equal, counter to CF-conventions. If this is a concern, specify a units encoding for 'time' before writing to a file.\n",
            "  UserWarning,\n"
          ],
          "name": "stderr"
        }
      ]
    },
    {
      "cell_type": "code",
      "metadata": {
        "id": "fpFSA8QBB07F",
        "colab_type": "code",
        "colab": {}
      },
      "source": [
        "! mv pcp_all.nc \"/content/drive/My Drive/\""
      ],
      "execution_count": 0,
      "outputs": []
    },
    {
      "cell_type": "code",
      "metadata": {
        "id": "kKUeKKNhDn0Q",
        "colab_type": "code",
        "colab": {}
      },
      "source": [
        ""
      ],
      "execution_count": 0,
      "outputs": []
    }
  ]
}