{
  "nbformat": 4,
  "nbformat_minor": 0,
  "metadata": {
    "colab": {
      "name": "project_3_analysis.ipynb",
      "provenance": [],
      "collapsed_sections": [],
      "mount_file_id": "1pi-2MXyzB1pnEIIjh-FUmBmBz6rFwZzV",
      "authorship_tag": "ABX9TyPDfG6thu9VxnQqtnNwkZxe",
      "include_colab_link": true
    },
    "kernelspec": {
      "name": "python3",
      "display_name": "Python 3"
    }
  },
  "cells": [
    {
      "cell_type": "markdown",
      "metadata": {
        "id": "view-in-github",
        "colab_type": "text"
      },
      "source": [
        "<a href=\"https://colab.research.google.com/github/bieri2/ATMS597-Project3-GroupE/blob/master/project_3_analysis.ipynb\" target=\"_parent\"><img src=\"https://colab.research.google.com/assets/colab-badge.svg\" alt=\"Open In Colab\"/></a>"
      ]
    },
    {
      "cell_type": "code",
      "metadata": {
        "id": "ONKgwVKdHrMq",
        "colab_type": "code",
        "outputId": "0092ed5d-54cf-45b7-96f9-1a8b86381bb3",
        "colab": {
          "base_uri": "https://localhost:8080/",
          "height": 70
        }
      },
      "source": [
        "import xarray as xr\n",
        "! pip install netcdf4\n",
        "import matplotlib.pyplot as plt\n",
        "import numpy as np\n",
        "import pandas as pd\n",
        "import seaborn as sns"
      ],
      "execution_count": 91,
      "outputs": [
        {
          "output_type": "stream",
          "text": [
            "Requirement already satisfied: netcdf4 in /usr/local/lib/python3.6/dist-packages (1.5.3)\n",
            "Requirement already satisfied: numpy>=1.7 in /usr/local/lib/python3.6/dist-packages (from netcdf4) (1.17.5)\n",
            "Requirement already satisfied: cftime in /usr/local/lib/python3.6/dist-packages (from netcdf4) (1.1.0)\n"
          ],
          "name": "stdout"
        }
      ]
    },
    {
      "cell_type": "code",
      "metadata": {
        "id": "3VN8vwS_ZmA4",
        "colab_type": "code",
        "colab": {}
      },
      "source": [
        "def is_djf(month):\n",
        "    return (month == 12) | (month <= 2)"
      ],
      "execution_count": 0,
      "outputs": []
    },
    {
      "cell_type": "code",
      "metadata": {
        "id": "8mxLZw_HH9xB",
        "colab_type": "code",
        "colab": {}
      },
      "source": [
        "pcp = xr.open_dataset('/content/drive/My Drive/pcp_all.nc')"
      ],
      "execution_count": 0,
      "outputs": []
    },
    {
      "cell_type": "code",
      "metadata": {
        "id": "fQqDKyyKIE3J",
        "colab_type": "code",
        "colab": {}
      },
      "source": [
        "pcp_j = pcp.sel(latitude=-6.21,longitude=106.85,method='nearest')['precip']\n",
        "pcp_j = pcp_j.sel(time=is_djf(pcp_j['time.month']))\n",
        "pcp_j = pcp_j.where(pcp_j != -99999.0)\n",
        "pcp_j = pcp_j.where(pcp_j < 100.)"
      ],
      "execution_count": 0,
      "outputs": []
    },
    {
      "cell_type": "code",
      "metadata": {
        "id": "bBiO3WHrIM4S",
        "colab_type": "code",
        "colab": {}
      },
      "source": [
        "pcp_quant = pcp_j.quantile(0.95)"
      ],
      "execution_count": 0,
      "outputs": []
    },
    {
      "cell_type": "code",
      "metadata": {
        "colab_type": "code",
        "id": "0stJ5orOcnof",
        "colab": {}
      },
      "source": [
        "pcp_above_dates = pcp_j[pcp_j >= pcp_quant].time.values"
      ],
      "execution_count": 0,
      "outputs": []
    },
    {
      "cell_type": "code",
      "metadata": {
        "id": "0rWC7pw5Qlf6",
        "colab_type": "code",
        "outputId": "020a7fca-85bb-4570-bd57-37f05c08a525",
        "colab": {
          "base_uri": "https://localhost:8080/",
          "height": 415
        }
      },
      "source": [
        "sns.set()\n",
        "fig, ax = plt.subplots(figsize=(10, 5))\n",
        "\n",
        "# plot the cumulative histogram\n",
        "n, bins, patches = ax.hist(pcp_j, 20, linewidth=2.0, color='darkblue', density=True, histtype='step', cumulative=True)\n",
        "plt.vlines(pcp_quant,0,1.1, linestyles='dashed', label='95th percentile', alpha=0.8)\n",
        "plt.legend(loc='lower right')\n",
        "ax.set_xlim(0,70)\n",
        "ax.set_ylim(0,1.03)\n",
        "ax.set_xlabel('Precipitation (mm/day)', fontsize=14)\n",
        "ax.set_ylabel('Probability', fontsize=14)\n",
        "ax.tick_params(axis='both', which='major', labelsize=14)"
      ],
      "execution_count": 97,
      "outputs": [
        {
          "output_type": "stream",
          "text": [
            "/usr/local/lib/python3.6/dist-packages/numpy/lib/histograms.py:839: RuntimeWarning: invalid value encountered in greater_equal\n",
            "  keep = (tmp_a >= first_edge)\n",
            "/usr/local/lib/python3.6/dist-packages/numpy/lib/histograms.py:840: RuntimeWarning: invalid value encountered in less_equal\n",
            "  keep &= (tmp_a <= last_edge)\n"
          ],
          "name": "stderr"
        },
        {
          "output_type": "display_data",
          "data": {
            "image/png": "[encoded data removed]",
            "text/plain": [
              "<Figure size 720x360 with 1 Axes>"
            ]
          },
          "metadata": {
            "tags": []
          }
        }
      ]
    },
    {
      "cell_type": "code",
      "metadata": {
        "id": "PTMlu4tKaoEM",
        "colab_type": "code",
        "colab": {}
      },
      "source": [
        ""
      ],
      "execution_count": 0,
      "outputs": []
    }
  ]
}